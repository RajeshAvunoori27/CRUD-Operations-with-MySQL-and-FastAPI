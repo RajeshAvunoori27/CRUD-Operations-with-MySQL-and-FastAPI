{
  "nbformat": 4,
  "nbformat_minor": 0,
  "metadata": {
    "colab": {
      "provenance": [],
      "include_colab_link": true
    },
    "kernelspec": {
      "name": "python3",
      "display_name": "Python 3"
    },
    "language_info": {
      "name": "python"
    }
  },
  "cells": [
    {
      "cell_type": "markdown",
      "metadata": {
        "id": "view-in-github",
        "colab_type": "text"
      },
      "source": [
        "<a href=\"https://colab.research.google.com/github/RajeshAvunoori27/CRUD-Operations-with-MySQL-and-FastAPI/blob/main/Notebooks/Chap10/10_2_Convolution_for_MNIST_1D.ipynb\" target=\"_parent\"><img src=\"https://colab.research.google.com/assets/colab-badge.svg\" alt=\"Open In Colab\"/></a>"
      ]
    },
    {
      "cell_type": "markdown",
      "source": [
        "# **Notebook 10.2: Convolution for MNIST-1D**\n",
        "\n",
        "This notebook investigates a 1D convolutional network for MNIST-1D as in figure 10.7 and 10.8a.\n",
        "\n",
        "Work through the cells below, running each cell in turn. In various places you will see the words \"TO DO\". Follow the instructions at these places and make predictions about what is going to happen or write code to complete the functions.\n",
        "\n",
        "Contact me at udlbookmail@gmail.com if you find any mistakes or have any suggestions.\n",
        "\n"
      ],
      "metadata": {
        "id": "t9vk9Elugvmi"
      }
    },
    {
      "cell_type": "code",
      "source": [
        "# Run this if you're in a Colab to install MNIST 1D repository\n",
        "!pip install git+https://github.com/greydanus/mnist1d"
      ],
      "metadata": {
        "id": "D5yLObtZCi9J",
        "outputId": "7cea458b-3736-4b73-92ae-b88178d18c7f",
        "colab": {
          "base_uri": "https://localhost:8080/",
          "height": 740
        }
      },
      "execution_count": 5,
      "outputs": [
        {
          "output_type": "stream",
          "name": "stdout",
          "text": [
            "Collecting git+https://github.com/greydanus/mnist1d\n",
            "  Cloning https://github.com/greydanus/mnist1d to /tmp/pip-req-build-cbboys4r\n",
            "  Running command git clone --filter=blob:none --quiet https://github.com/greydanus/mnist1d /tmp/pip-req-build-cbboys4r\n",
            "  Resolved https://github.com/greydanus/mnist1d to commit 7878d96082abd200c546a07a4101fa90b30fdf7e\n",
            "  Installing build dependencies ... \u001b[?25l\u001b[?25hdone\n",
            "  Getting requirements to build wheel ... \u001b[?25l\u001b[?25hdone\n",
            "  Preparing metadata (pyproject.toml) ... \u001b[?25l\u001b[?25hdone\n",
            "Requirement already satisfied: requests in /usr/local/lib/python3.11/dist-packages (from mnist1d==0.0.2.post16) (2.32.3)\n",
            "Requirement already satisfied: numpy in /usr/local/lib/python3.11/dist-packages (from mnist1d==0.0.2.post16) (1.26.4)\n",
            "Requirement already satisfied: matplotlib in /usr/local/lib/python3.11/dist-packages (from mnist1d==0.0.2.post16) (3.10.0)\n",
            "Requirement already satisfied: scipy in /usr/local/lib/python3.11/dist-packages (from mnist1d==0.0.2.post16) (1.13.1)\n",
            "Requirement already satisfied: contourpy>=1.0.1 in /usr/local/lib/python3.11/dist-packages (from matplotlib->mnist1d==0.0.2.post16) (1.3.1)\n",
            "Requirement already satisfied: cycler>=0.10 in /usr/local/lib/python3.11/dist-packages (from matplotlib->mnist1d==0.0.2.post16) (0.12.1)\n",
            "Requirement already satisfied: fonttools>=4.22.0 in /usr/local/lib/python3.11/dist-packages (from matplotlib->mnist1d==0.0.2.post16) (4.55.3)\n",
            "Requirement already satisfied: kiwisolver>=1.3.1 in /usr/local/lib/python3.11/dist-packages (from matplotlib->mnist1d==0.0.2.post16) (1.4.8)\n",
            "Requirement already satisfied: packaging>=20.0 in /usr/local/lib/python3.11/dist-packages (from matplotlib->mnist1d==0.0.2.post16) (24.2)\n",
            "Requirement already satisfied: pillow>=8 in /usr/local/lib/python3.11/dist-packages (from matplotlib->mnist1d==0.0.2.post16) (11.1.0)\n",
            "Requirement already satisfied: pyparsing>=2.3.1 in /usr/local/lib/python3.11/dist-packages (from matplotlib->mnist1d==0.0.2.post16) (3.2.1)\n",
            "Requirement already satisfied: python-dateutil>=2.7 in /usr/local/lib/python3.11/dist-packages (from matplotlib->mnist1d==0.0.2.post16) (2.8.2)\n",
            "Requirement already satisfied: charset-normalizer<4,>=2 in /usr/local/lib/python3.11/dist-packages (from requests->mnist1d==0.0.2.post16) (3.4.1)\n",
            "Requirement already satisfied: idna<4,>=2.5 in /usr/local/lib/python3.11/dist-packages (from requests->mnist1d==0.0.2.post16) (3.10)\n",
            "Requirement already satisfied: urllib3<3,>=1.21.1 in /usr/local/lib/python3.11/dist-packages (from requests->mnist1d==0.0.2.post16) (2.3.0)\n",
            "Requirement already satisfied: certifi>=2017.4.17 in /usr/local/lib/python3.11/dist-packages (from requests->mnist1d==0.0.2.post16) (2024.12.14)\n",
            "Requirement already satisfied: six>=1.5 in /usr/local/lib/python3.11/dist-packages (from python-dateutil>=2.7->matplotlib->mnist1d==0.0.2.post16) (1.17.0)\n",
            "Building wheels for collected packages: mnist1d\n",
            "  Building wheel for mnist1d (pyproject.toml) ... \u001b[?25l\u001b[?25hdone\n",
            "  Created wheel for mnist1d: filename=mnist1d-0.0.2.post16-py3-none-any.whl size=14625 sha256=4ae2f7c7cfbdc0fd48feef2a6c422cbb03808840677012fbbf4e6bb2fd24ddc9\n",
            "  Stored in directory: /tmp/pip-ephem-wheel-cache-elwgaeg2/wheels/d6/38/42/3d2112bc7d915f6195254ac85eb761d922d1b18f52817aa8e2\n",
            "Successfully built mnist1d\n",
            "Installing collected packages: mnist1d\n",
            "  Attempting uninstall: mnist1d\n",
            "    Found existing installation: mnist1d 0.0.2.post1\n",
            "    Uninstalling mnist1d-0.0.2.post1:\n",
            "      Successfully uninstalled mnist1d-0.0.2.post1\n",
            "Successfully installed mnist1d-0.0.2.post16\n"
          ]
        },
        {
          "output_type": "display_data",
          "data": {
            "application/vnd.colab-display-data+json": {
              "pip_warning": {
                "packages": [
                  "mnist1d"
                ]
              },
              "id": "647b711a82cf4b35b9a8f4643823cb82"
            }
          },
          "metadata": {}
        }
      ]
    },
    {
      "cell_type": "code",
      "source": [
        "import numpy as np\n",
        "import os\n",
        "import torch, torch.nn as nn\n",
        "from torch.utils.data import TensorDataset, DataLoader\n",
        "from torch.optim.lr_scheduler import StepLR\n",
        "import matplotlib.pyplot as plt\n",
        "import mnist1d\n",
        "import random"
      ],
      "metadata": {
        "id": "YrXWAH7sUWvU"
      },
      "execution_count": 1,
      "outputs": []
    },
    {
      "cell_type": "code",
      "source": [
        "args = mnist1d.data.get_dataset_args()\n",
        "data = mnist1d.data.get_dataset(args, path='./mnist1d_data.pkl', download=False, regenerate=False)\n",
        "\n",
        "# The training and test input and outputs are in\n",
        "# data['x'], data['y'], data['x_test'], and data['y_test']\n",
        "print(\"Examples in training set: {}\".format(len(data['y'])))\n",
        "print(\"Examples in test set: {}\".format(len(data['y_test'])))\n",
        "print(\"Length of each example: {}\".format(data['x'].shape[-1]))"
      ],
      "metadata": {
        "id": "twI72ZCrCt5z",
        "outputId": "c8a75d7b-96f7-4723-e10d-61166a98d03d",
        "colab": {
          "base_uri": "https://localhost:8080/"
        }
      },
      "execution_count": 2,
      "outputs": [
        {
          "output_type": "stream",
          "name": "stdout",
          "text": [
            "Successfully loaded data from ./mnist1d_data.pkl\n",
            "Examples in training set: 4000\n",
            "Examples in test set: 1000\n",
            "Length of each example: 40\n"
          ]
        }
      ]
    },
    {
      "cell_type": "code",
      "source": [
        "# Load in the data\n",
        "train_data_x = data['x'].transpose()\n",
        "train_data_y = data['y']\n",
        "val_data_x = data['x_test'].transpose()\n",
        "val_data_y = data['y_test']\n",
        "# Print out sizes\n",
        "print(\"Train data: %d examples (columns), each of which has %d dimensions (rows)\"%((train_data_x.shape[1],train_data_x.shape[0])))\n",
        "print(\"Validation data: %d examples (columns), each of which has %d dimensions (rows)\"%((val_data_x.shape[1],val_data_x.shape[0])))"
      ],
      "metadata": {
        "id": "8bKADvLHbiV5",
        "outputId": "7e072773-7b5a-4b90-e1c0-7224aaf19d17",
        "colab": {
          "base_uri": "https://localhost:8080/"
        }
      },
      "execution_count": 3,
      "outputs": [
        {
          "output_type": "stream",
          "name": "stdout",
          "text": [
            "Train data: 4000 examples (columns), each of which has 40 dimensions (rows)\n",
            "Validation data: 1000 examples (columns), each of which has 40 dimensions (rows)\n"
          ]
        }
      ]
    },
    {
      "cell_type": "markdown",
      "source": [
        "Define the network"
      ],
      "metadata": {
        "id": "_sFvRDGrl4qe"
      }
    },
    {
      "cell_type": "code",
      "source": [
        "# There are 40 input dimensions and 10 output dimensions for this data\n",
        "# The inputs correspond to the 40 offsets in the MNIST1D template.\n",
        "D_i = 40\n",
        "# The outputs correspond to the 10 digits\n",
        "D_o = 10\n",
        "\n",
        "\n",
        "# TODO Create a model with the following layers\n",
        "# 1. Convolutional layer, (input=length 40 and 1 channel, kernel size 3, stride 2, padding=\"valid\", 15 output channels )\n",
        "# 2. ReLU\n",
        "# 3. Convolutional layer, (input=length 19 and 15 channels, kernel size 3, stride 2, padding=\"valid\", 15 output channels )\n",
        "# 4. ReLU\n",
        "# 5. Convolutional layer, (input=length 9 and 15 channels, kernel size 3, stride 2, padding=\"valid\", 15 output channels)\n",
        "# 6. ReLU\n",
        "# 7. Flatten (converts 4x15) to length 60\n",
        "# 8. Linear layer (input size = 60, output size = 10)\n",
        "# References:\n",
        "# https://pytorch.org/docs/1.13/generated/torch.nn.Conv1d.html?highlight=conv1d#torch.nn.Conv1d\n",
        "# https://pytorch.org/docs/stable/generated/torch.nn.Flatten.html\n",
        "# https://pytorch.org/docs/1.13/generated/torch.nn.Linear.html?highlight=linear#torch.nn.Linear\n",
        "\n",
        "# NOTE THAT THE CONVOLUTIONAL LAYERS NEED TO TAKE THE NUMBER OF INPUT CHANNELS AS A PARAMETER\n",
        "# AND NOT THE INPUT SIZE.\n",
        "\n",
        "# Replace the following function:\n",
        "model = nn.Sequential(\n",
        "    nn.Conv1d(1, 15, kernel_size=3, stride=2, padding=\"valid\"),\n",
        "    nn.ReLU(),\n",
        "    nn.Conv1d(15, 15, kernel_size=3, stride=2, padding=\"valid\"),\n",
        "    nn.ReLU(),\n",
        "    nn.Conv1d(15, 15, kernel_size=3, stride=2, padding=\"valid\"),\n",
        "    nn.ReLU(),\n",
        "    nn.Flatten(),\n",
        "    nn.Linear(60, 10)\n",
        ")\n",
        "\n",
        "\n",
        "\n"
      ],
      "metadata": {
        "id": "FslroPJJffrh"
      },
      "execution_count": 5,
      "outputs": []
    },
    {
      "cell_type": "code",
      "source": [
        "# He initialization of weights\n",
        "def weights_init(layer_in):\n",
        "  if isinstance(layer_in, nn.Linear):\n",
        "    nn.init.kaiming_uniform_(layer_in.weight)\n",
        "    layer_in.bias.data.fill_(0.0)"
      ],
      "metadata": {
        "id": "YgLaex1pfhqz"
      },
      "execution_count": 6,
      "outputs": []
    },
    {
      "cell_type": "code",
      "source": [
        "# choose cross entropy loss function (equation 5.24 in the loss notes)\n",
        "loss_function = nn.CrossEntropyLoss()\n",
        "# construct SGD optimizer and initialize learning rate and momentum\n",
        "optimizer = torch.optim.SGD(model.parameters(), lr = 0.05, momentum=0.9)\n",
        "# object that decreases learning rate by half every 20 epochs\n",
        "scheduler = StepLR(optimizer, step_size=20, gamma=0.5)\n",
        "# create 100 dummy data points and store in data loader class\n",
        "x_train = torch.tensor(train_data_x.transpose().astype('float32'))\n",
        "y_train = torch.tensor(train_data_y.astype('long')).long()\n",
        "x_val= torch.tensor(val_data_x.transpose().astype('float32'))\n",
        "y_val = torch.tensor(val_data_y.astype('long')).long()\n",
        "\n",
        "# load the data into a class that creates the batches\n",
        "data_loader = DataLoader(TensorDataset(x_train,y_train), batch_size=100, shuffle=True, worker_init_fn=np.random.seed(1))\n",
        "\n",
        "# Initialize model weights\n",
        "model.apply(weights_init)\n",
        "\n",
        "# loop over the dataset n_epoch times\n",
        "n_epoch = 100\n",
        "# store the loss and the % correct at each epoch\n",
        "losses_train = np.zeros((n_epoch))\n",
        "errors_train = np.zeros((n_epoch))\n",
        "losses_val = np.zeros((n_epoch))\n",
        "errors_val = np.zeros((n_epoch))\n",
        "\n",
        "for epoch in range(n_epoch):\n",
        "  # loop over batches\n",
        "  for i, data in enumerate(data_loader):\n",
        "    # retrieve inputs and labels for this batch\n",
        "    x_batch, y_batch = data\n",
        "    # zero the parameter gradients\n",
        "    optimizer.zero_grad()\n",
        "    # forward pass -- calculate model output\n",
        "    pred = model(x_batch[:,None,:])\n",
        "    # compute the loss\n",
        "    loss = loss_function(pred, y_batch)\n",
        "    # backward pass\n",
        "    loss.backward()\n",
        "    # SGD update\n",
        "    optimizer.step()\n",
        "\n",
        "  # Run whole dataset to get statistics -- normally wouldn't do this\n",
        "  pred_train = model(x_train[:,None,:])\n",
        "  pred_val = model(x_val[:,None,:])\n",
        "  _, predicted_train_class = torch.max(pred_train.data, 1)\n",
        "  _, predicted_val_class = torch.max(pred_val.data, 1)\n",
        "  errors_train[epoch] = 100 - 100 * (predicted_train_class == y_train).float().sum() / len(y_train)\n",
        "  errors_val[epoch]= 100 - 100 * (predicted_val_class == y_val).float().sum() / len(y_val)\n",
        "  losses_train[epoch] = loss_function(pred_train, y_train).item()\n",
        "  losses_val[epoch]= loss_function(pred_val, y_val).item()\n",
        "  print(f'Epoch {epoch:5d}, train loss {losses_train[epoch]:.6f}, train error {errors_train[epoch]:3.2f},  val loss {losses_val[epoch]:.6f}, percent error {errors_val[epoch]:3.2f}')\n",
        "\n",
        "  # tell scheduler to consider updating learning rate\n",
        "  scheduler.step()\n",
        "\n",
        "# Plot the results\n",
        "fig, ax = plt.subplots()\n",
        "ax.plot(errors_train,'r-',label='train')\n",
        "ax.plot(errors_val,'b-',label='validation')\n",
        "ax.set_ylim(0,100); ax.set_xlim(0,n_epoch)\n",
        "ax.set_xlabel('Epoch'); ax.set_ylabel('Error')\n",
        "ax.set_title('Part I: Validation Result %3.2f'%(errors_val[-1]))\n",
        "ax.legend()\n",
        "plt.show()"
      ],
      "metadata": {
        "id": "NYw8I_3mmX5c",
        "outputId": "a9edc265-45fd-40b5-ebec-43255f56e3aa",
        "colab": {
          "base_uri": "https://localhost:8080/",
          "height": 1000
        }
      },
      "execution_count": 7,
      "outputs": [
        {
          "output_type": "stream",
          "name": "stdout",
          "text": [
            "Epoch     0, train loss 1.912893, train error 77.07,  val loss 1.913639, percent error 76.20\n",
            "Epoch     1, train loss 1.503386, train error 58.88,  val loss 1.529989, percent error 63.50\n",
            "Epoch     2, train loss 1.392202, train error 57.17,  val loss 1.391893, percent error 58.20\n",
            "Epoch     3, train loss 1.333156, train error 54.47,  val loss 1.355981, percent error 60.20\n",
            "Epoch     4, train loss 1.256917, train error 51.50,  val loss 1.279323, percent error 53.40\n",
            "Epoch     5, train loss 1.182933, train error 49.05,  val loss 1.212981, percent error 50.80\n",
            "Epoch     6, train loss 1.238139, train error 49.15,  val loss 1.279004, percent error 53.00\n",
            "Epoch     7, train loss 1.105148, train error 44.75,  val loss 1.139978, percent error 47.50\n",
            "Epoch     8, train loss 1.042347, train error 42.05,  val loss 1.080736, percent error 45.20\n",
            "Epoch     9, train loss 0.940187, train error 37.33,  val loss 0.996502, percent error 41.60\n",
            "Epoch    10, train loss 0.884662, train error 35.25,  val loss 0.952000, percent error 39.10\n",
            "Epoch    11, train loss 0.861503, train error 34.12,  val loss 0.973913, percent error 37.60\n",
            "Epoch    12, train loss 0.780416, train error 31.20,  val loss 0.884015, percent error 35.50\n",
            "Epoch    13, train loss 0.852279, train error 31.15,  val loss 0.949559, percent error 33.50\n",
            "Epoch    14, train loss 0.667001, train error 26.95,  val loss 0.761703, percent error 29.50\n",
            "Epoch    15, train loss 0.614655, train error 23.80,  val loss 0.719203, percent error 28.90\n",
            "Epoch    16, train loss 0.581058, train error 23.07,  val loss 0.689571, percent error 25.30\n",
            "Epoch    17, train loss 0.494702, train error 18.55,  val loss 0.611102, percent error 23.70\n",
            "Epoch    18, train loss 0.468926, train error 18.82,  val loss 0.576074, percent error 21.30\n",
            "Epoch    19, train loss 0.394958, train error 14.68,  val loss 0.543992, percent error 20.00\n",
            "Epoch    20, train loss 0.369486, train error 13.53,  val loss 0.538076, percent error 20.20\n",
            "Epoch    21, train loss 0.338253, train error 12.47,  val loss 0.477683, percent error 18.10\n",
            "Epoch    22, train loss 0.324284, train error 11.78,  val loss 0.481827, percent error 17.70\n",
            "Epoch    23, train loss 0.334011, train error 11.70,  val loss 0.502764, percent error 17.20\n",
            "Epoch    24, train loss 0.305705, train error 10.85,  val loss 0.496018, percent error 17.30\n",
            "Epoch    25, train loss 0.277394, train error 9.95,  val loss 0.432307, percent error 15.10\n",
            "Epoch    26, train loss 0.282639, train error 10.32,  val loss 0.444806, percent error 15.40\n",
            "Epoch    27, train loss 0.246948, train error 8.60,  val loss 0.421799, percent error 14.50\n",
            "Epoch    28, train loss 0.224444, train error 8.00,  val loss 0.419331, percent error 13.70\n",
            "Epoch    29, train loss 0.252899, train error 9.07,  val loss 0.475211, percent error 15.70\n",
            "Epoch    30, train loss 0.206062, train error 7.07,  val loss 0.404247, percent error 14.00\n",
            "Epoch    31, train loss 0.199369, train error 6.82,  val loss 0.396508, percent error 13.40\n",
            "Epoch    32, train loss 0.214637, train error 7.78,  val loss 0.438919, percent error 13.50\n",
            "Epoch    33, train loss 0.177423, train error 6.25,  val loss 0.386156, percent error 11.70\n",
            "Epoch    34, train loss 0.178495, train error 6.43,  val loss 0.402092, percent error 12.60\n",
            "Epoch    35, train loss 0.159708, train error 5.65,  val loss 0.388137, percent error 11.80\n",
            "Epoch    36, train loss 0.164662, train error 5.78,  val loss 0.375143, percent error 11.80\n",
            "Epoch    37, train loss 0.142642, train error 4.93,  val loss 0.361992, percent error 11.10\n",
            "Epoch    38, train loss 0.148620, train error 4.88,  val loss 0.365516, percent error 10.40\n",
            "Epoch    39, train loss 0.130168, train error 4.45,  val loss 0.373094, percent error 11.80\n",
            "Epoch    40, train loss 0.113550, train error 3.70,  val loss 0.356393, percent error 10.40\n",
            "Epoch    41, train loss 0.104703, train error 3.22,  val loss 0.347790, percent error 10.30\n",
            "Epoch    42, train loss 0.107744, train error 3.65,  val loss 0.351014, percent error 10.80\n",
            "Epoch    43, train loss 0.100740, train error 3.10,  val loss 0.351985, percent error 10.50\n",
            "Epoch    44, train loss 0.104836, train error 3.47,  val loss 0.372325, percent error 11.30\n",
            "Epoch    45, train loss 0.100929, train error 3.30,  val loss 0.357634, percent error 10.80\n",
            "Epoch    46, train loss 0.096185, train error 2.97,  val loss 0.351014, percent error 9.90\n",
            "Epoch    47, train loss 0.091414, train error 3.07,  val loss 0.349332, percent error 10.20\n",
            "Epoch    48, train loss 0.092513, train error 2.85,  val loss 0.372493, percent error 10.80\n",
            "Epoch    49, train loss 0.099882, train error 3.57,  val loss 0.376956, percent error 10.40\n",
            "Epoch    50, train loss 0.087356, train error 2.80,  val loss 0.357948, percent error 10.30\n",
            "Epoch    51, train loss 0.083047, train error 2.53,  val loss 0.376922, percent error 10.90\n",
            "Epoch    52, train loss 0.085462, train error 2.90,  val loss 0.381050, percent error 11.60\n",
            "Epoch    53, train loss 0.082690, train error 2.82,  val loss 0.367104, percent error 9.80\n",
            "Epoch    54, train loss 0.085002, train error 2.88,  val loss 0.384451, percent error 11.20\n",
            "Epoch    55, train loss 0.075488, train error 2.15,  val loss 0.355803, percent error 9.80\n",
            "Epoch    56, train loss 0.078691, train error 2.43,  val loss 0.389222, percent error 11.00\n",
            "Epoch    57, train loss 0.072946, train error 2.07,  val loss 0.371689, percent error 10.30\n",
            "Epoch    58, train loss 0.066261, train error 1.82,  val loss 0.369428, percent error 10.70\n",
            "Epoch    59, train loss 0.065674, train error 1.88,  val loss 0.369431, percent error 10.10\n",
            "Epoch    60, train loss 0.062839, train error 1.70,  val loss 0.379326, percent error 10.20\n",
            "Epoch    61, train loss 0.064179, train error 1.82,  val loss 0.376384, percent error 10.40\n",
            "Epoch    62, train loss 0.059488, train error 1.47,  val loss 0.380737, percent error 10.30\n",
            "Epoch    63, train loss 0.060874, train error 1.60,  val loss 0.381040, percent error 10.20\n",
            "Epoch    64, train loss 0.059289, train error 1.43,  val loss 0.378315, percent error 10.30\n",
            "Epoch    65, train loss 0.058369, train error 1.45,  val loss 0.383831, percent error 10.30\n",
            "Epoch    66, train loss 0.057707, train error 1.43,  val loss 0.389390, percent error 10.40\n",
            "Epoch    67, train loss 0.056283, train error 1.20,  val loss 0.382237, percent error 10.40\n",
            "Epoch    68, train loss 0.055518, train error 1.20,  val loss 0.384595, percent error 10.70\n",
            "Epoch    69, train loss 0.057128, train error 1.40,  val loss 0.393376, percent error 10.40\n",
            "Epoch    70, train loss 0.056019, train error 1.35,  val loss 0.392714, percent error 10.40\n",
            "Epoch    71, train loss 0.055335, train error 1.20,  val loss 0.389271, percent error 10.10\n",
            "Epoch    72, train loss 0.054249, train error 1.30,  val loss 0.388732, percent error 10.10\n",
            "Epoch    73, train loss 0.057872, train error 1.32,  val loss 0.403647, percent error 10.60\n",
            "Epoch    74, train loss 0.052482, train error 1.28,  val loss 0.391406, percent error 10.00\n",
            "Epoch    75, train loss 0.050920, train error 1.07,  val loss 0.392338, percent error 10.40\n",
            "Epoch    76, train loss 0.051062, train error 1.15,  val loss 0.396078, percent error 10.40\n",
            "Epoch    77, train loss 0.050186, train error 1.00,  val loss 0.399845, percent error 10.60\n",
            "Epoch    78, train loss 0.050231, train error 1.03,  val loss 0.405574, percent error 10.70\n",
            "Epoch    79, train loss 0.049294, train error 0.97,  val loss 0.398637, percent error 10.10\n",
            "Epoch    80, train loss 0.047562, train error 0.93,  val loss 0.402776, percent error 10.50\n",
            "Epoch    81, train loss 0.047164, train error 0.82,  val loss 0.397692, percent error 10.50\n",
            "Epoch    82, train loss 0.046754, train error 0.82,  val loss 0.399020, percent error 10.40\n",
            "Epoch    83, train loss 0.046493, train error 0.88,  val loss 0.402690, percent error 10.40\n",
            "Epoch    84, train loss 0.047303, train error 1.00,  val loss 0.406323, percent error 10.10\n",
            "Epoch    85, train loss 0.045799, train error 0.78,  val loss 0.404331, percent error 10.50\n",
            "Epoch    86, train loss 0.045936, train error 0.93,  val loss 0.404649, percent error 10.10\n",
            "Epoch    87, train loss 0.047290, train error 0.97,  val loss 0.406503, percent error 9.80\n",
            "Epoch    88, train loss 0.045287, train error 0.78,  val loss 0.405695, percent error 10.50\n",
            "Epoch    89, train loss 0.044929, train error 0.78,  val loss 0.404135, percent error 10.10\n",
            "Epoch    90, train loss 0.044989, train error 0.82,  val loss 0.405738, percent error 10.20\n",
            "Epoch    91, train loss 0.044311, train error 0.78,  val loss 0.406950, percent error 9.90\n",
            "Epoch    92, train loss 0.044356, train error 0.75,  val loss 0.411686, percent error 10.70\n",
            "Epoch    93, train loss 0.043844, train error 0.75,  val loss 0.411917, percent error 10.20\n",
            "Epoch    94, train loss 0.044096, train error 0.82,  val loss 0.409408, percent error 10.20\n",
            "Epoch    95, train loss 0.044463, train error 0.88,  val loss 0.408682, percent error 10.10\n",
            "Epoch    96, train loss 0.043283, train error 0.72,  val loss 0.406838, percent error 10.00\n",
            "Epoch    97, train loss 0.042567, train error 0.72,  val loss 0.413077, percent error 10.50\n",
            "Epoch    98, train loss 0.042559, train error 0.75,  val loss 0.410788, percent error 10.00\n",
            "Epoch    99, train loss 0.042509, train error 0.75,  val loss 0.413655, percent error 9.90\n"
          ]
        },
        {
          "output_type": "display_data",
          "data": {
            "text/plain": [
              "<Figure size 640x480 with 1 Axes>"
            ],
            "image/png": "[encoded data removed]"
          },
          "metadata": {}
        }
      ]
    }
  ]
}